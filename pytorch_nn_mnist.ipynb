{
 "metadata": {
  "language_info": {
   "codemirror_mode": {
    "name": "ipython",
    "version": 3
   },
   "file_extension": ".py",
   "mimetype": "text/x-python",
   "name": "python",
   "nbconvert_exporter": "python",
   "pygments_lexer": "ipython3",
   "version": 3
  },
  "orig_nbformat": 2
 },
 "nbformat": 4,
 "nbformat_minor": 2,
 "cells": [
  {
   "source": [
    "# MNIST Handwritten Digit Recognition in PyTorch\n",
    "\n",
    "PyTorch training project to build and train a CNN in PyTorch to recognize handwritten digits using the MNIST dataset. This project was borrowed from https://nextjournal.com/gkoehler/pytorch-mnist. \n",
    "\n",
    "The conda environment used for this notebook is available in the setup.ps1 file in this project's folder."
   ],
   "cell_type": "markdown",
   "metadata": {}
  },
  {
   "source": [
    "## Imports"
   ],
   "cell_type": "markdown",
   "metadata": {}
  },
  {
   "cell_type": "code",
   "execution_count": null,
   "metadata": {},
   "outputs": [],
   "source": []
  }
 ]
}